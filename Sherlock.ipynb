{
  "nbformat": 4,
  "nbformat_minor": 0,
  "metadata": {
    "colab": {
      "name": "Sherlock.ipynb",
      "provenance": [],
      "collapsed_sections": []
    },
    "kernelspec": {
      "name": "python3",
      "display_name": "Python 3"
    },
    "accelerator": "GPU"
  },
  "cells": [
    {
      "cell_type": "markdown",
      "metadata": {
        "id": "SMPVZlQJAg_i",
        "colab_type": "text"
      },
      "source": [
        "Taken from: https://github.com/sherlock-project/sherlock\n",
        "\n",
        "and\n",
        "\n",
        "https://www.youtube.com/watch?v=HrqYGTK8-bo"
      ]
    },
    {
      "cell_type": "code",
      "metadata": {
        "id": "u8prBn-1-zRa",
        "colab_type": "code",
        "colab": {}
      },
      "source": [
        "from google.colab import drive\n",
        "drive.mount('/content/gdrive')"
      ],
      "execution_count": null,
      "outputs": []
    },
    {
      "cell_type": "code",
      "metadata": {
        "id": "HYtMTqaW_XYG",
        "colab_type": "code",
        "colab": {}
      },
      "source": [
        "! ls"
      ],
      "execution_count": null,
      "outputs": []
    },
    {
      "cell_type": "code",
      "metadata": {
        "id": "6qRqDWsN_iDD",
        "colab_type": "code",
        "colab": {}
      },
      "source": [
        "%cd gdrive/My Drive/Phone Testing"
      ],
      "execution_count": null,
      "outputs": []
    },
    {
      "cell_type": "code",
      "metadata": {
        "id": "fVumINPg_zjb",
        "colab_type": "code",
        "colab": {}
      },
      "source": [
        "! git clone https://github.com/sherlock-project/sherlock.git\n",
        "%cd Sherlock/"
      ],
      "execution_count": null,
      "outputs": []
    },
    {
      "cell_type": "code",
      "metadata": {
        "id": "tkE6o5DfsUYH",
        "colab_type": "code",
        "colab": {}
      },
      "source": [
        "! ls"
      ],
      "execution_count": null,
      "outputs": []
    },
    {
      "cell_type": "code",
      "metadata": {
        "id": "v5VttR-btCaE",
        "colab_type": "code",
        "colab": {}
      },
      "source": [
        "%cd sherlock"
      ],
      "execution_count": null,
      "outputs": []
    },
    {
      "cell_type": "code",
      "metadata": {
        "id": "3RclIsmBtOCA",
        "colab_type": "code",
        "colab": {}
      },
      "source": [
        "! ls"
      ],
      "execution_count": null,
      "outputs": []
    },
    {
      "cell_type": "code",
      "metadata": {
        "id": "_VWDlR9KAGQ6",
        "colab_type": "code",
        "colab": {}
      },
      "source": [
        "#! git pull"
      ],
      "execution_count": null,
      "outputs": []
    },
    {
      "cell_type": "code",
      "metadata": {
        "id": "hl9VS1pNAPGz",
        "colab_type": "code",
        "colab": {}
      },
      "source": [
        "! python3 -m pip install -r requirements.txt"
      ],
      "execution_count": null,
      "outputs": []
    },
    {
      "cell_type": "code",
      "metadata": {
        "id": "xKEjHq7xt9Rv",
        "colab_type": "code",
        "colab": {}
      },
      "source": [
        "! python3 sherlock.py --help"
      ],
      "execution_count": null,
      "outputs": []
    },
    {
      "cell_type": "code",
      "metadata": {
        "id": "sMO-AEnKuNNs",
        "colab_type": "code",
        "colab": {}
      },
      "source": [
        "! python3 sherlock.py ivonnics"
      ],
      "execution_count": null,
      "outputs": []
    }
  ]
}