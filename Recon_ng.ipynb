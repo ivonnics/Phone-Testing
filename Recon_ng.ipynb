{
  "nbformat": 4,
  "nbformat_minor": 0,
  "metadata": {
    "colab": {
      "name": "Recon-ng.ipynb",
      "provenance": [],
      "collapsed_sections": [],
      "toc_visible": true
    },
    "kernelspec": {
      "name": "python3",
      "display_name": "Python 3"
    }
  },
  "cells": [
    {
      "cell_type": "markdown",
      "metadata": {
        "id": "WI1aHrO7iyfF",
        "colab_type": "text"
      },
      "source": [
        "## Taken from: https://github.com/lanmaster53/recon-ng/wiki/Getting-Started"
      ]
    },
    {
      "cell_type": "code",
      "metadata": {
        "id": "8ZVI76sFiBcP",
        "colab_type": "code",
        "colab": {}
      },
      "source": [
        "! git clone https://github.com/lanmaster53/recon-ng.git"
      ],
      "execution_count": null,
      "outputs": []
    },
    {
      "cell_type": "code",
      "metadata": {
        "id": "GiwvIBNPiVCm",
        "colab_type": "code",
        "colab": {}
      },
      "source": [
        "%cd recon-ng"
      ],
      "execution_count": null,
      "outputs": []
    },
    {
      "cell_type": "code",
      "metadata": {
        "id": "8H-PoDBeibhT",
        "colab_type": "code",
        "colab": {}
      },
      "source": [
        "! pip install -r REQUIREMENTS"
      ],
      "execution_count": null,
      "outputs": []
    },
    {
      "cell_type": "code",
      "metadata": {
        "id": "6XC09qydjsaC",
        "colab_type": "code",
        "colab": {}
      },
      "source": [
        "! pip install lxml"
      ],
      "execution_count": null,
      "outputs": []
    },
    {
      "cell_type": "code",
      "metadata": {
        "id": "jV3IWVLkiiDT",
        "colab_type": "code",
        "colab": {}
      },
      "source": [
        "# https://null-byte.wonderhowto.com/how-to/hack-like-pro-reconnaissance-with-recon-ng-part-1-getting-started-0169854/\n",
        "# https://hackertarget.com/recon-ng-tutorial/\n",
        "# https://medium.com/@nancyjohn_95536/information-gathering-using-recon-ng-tool-ab2272f6088d MALO!!!\n",
        "\n",
        "! ./recon-ng"
      ],
      "execution_count": null,
      "outputs": []
    }
  ]
}