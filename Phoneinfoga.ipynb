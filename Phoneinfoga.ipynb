{
  "nbformat": 4,
  "nbformat_minor": 0,
  "metadata": {
    "colab": {
      "name": "Phoneinfoga.ipynb",
      "provenance": [],
      "collapsed_sections": []
    },
    "kernelspec": {
      "name": "python3",
      "display_name": "Python 3"
    },
    "accelerator": "GPU"
  },
  "cells": [
    {
      "cell_type": "markdown",
      "metadata": {
        "id": "SMPVZlQJAg_i",
        "colab_type": "text"
      },
      "source": [
        "Taken from: https://medium.com/@SundownDEV/phone-number-scanning-osint-recon-tool-6ad8f0cac27b\n",
        "\n",
        "and\n",
        "\n",
        "https://sundowndev.github.io/PhoneInfoga/install/\n",
        "\n",
        "and\n",
        "\n",
        "https://www.youtube.com/watch?v=WW6myutKBYk"
      ]
    },
    {
      "cell_type": "code",
      "metadata": {
        "id": "u8prBn-1-zRa",
        "colab_type": "code",
        "colab": {}
      },
      "source": [
        "from google.colab import drive\n",
        "drive.mount('/content/gdrive')"
      ],
      "execution_count": null,
      "outputs": []
    },
    {
      "cell_type": "code",
      "metadata": {
        "id": "HYtMTqaW_XYG",
        "colab_type": "code",
        "colab": {}
      },
      "source": [
        "! ls"
      ],
      "execution_count": null,
      "outputs": []
    },
    {
      "cell_type": "code",
      "metadata": {
        "id": "6qRqDWsN_iDD",
        "colab_type": "code",
        "colab": {}
      },
      "source": [
        "%cd gdrive/My Drive/Phone Testing"
      ],
      "execution_count": null,
      "outputs": []
    },
    {
      "cell_type": "code",
      "metadata": {
        "id": "fVumINPg_zjb",
        "colab_type": "code",
        "colab": {}
      },
      "source": [
        "! git clone https://github.com/sundowndev/PhoneInfoga\n",
        "%cd PhoneInfoga/"
      ],
      "execution_count": null,
      "outputs": []
    },
    {
      "cell_type": "code",
      "metadata": {
        "id": "_VWDlR9KAGQ6",
        "colab_type": "code",
        "colab": {}
      },
      "source": [
        "! git pull"
      ],
      "execution_count": null,
      "outputs": []
    },
    {
      "cell_type": "code",
      "metadata": {
        "id": "hl9VS1pNAPGz",
        "colab_type": "code",
        "colab": {}
      },
      "source": [
        "!-m pip install -r requirements.txt --user"
      ],
      "execution_count": null,
      "outputs": []
    },
    {
      "cell_type": "code",
      "metadata": {
        "id": "zOssqPYuAZlR",
        "colab_type": "code",
        "colab": {}
      },
      "source": [
        "%cp config.example.py config.py "
      ],
      "execution_count": null,
      "outputs": []
    },
    {
      "cell_type": "code",
      "metadata": {
        "id": "WODAn4YeBEbF",
        "colab_type": "code",
        "colab": {}
      },
      "source": [
        "! ls"
      ],
      "execution_count": null,
      "outputs": []
    },
    {
      "cell_type": "code",
      "metadata": {
        "id": "fvFN6GOmBql_",
        "colab_type": "code",
        "colab": {}
      },
      "source": [
        "! pip install colorama"
      ],
      "execution_count": null,
      "outputs": []
    },
    {
      "cell_type": "code",
      "metadata": {
        "id": "2BIV2GaeB0ma",
        "colab_type": "code",
        "colab": {}
      },
      "source": [
        "! pip install selenium"
      ],
      "execution_count": null,
      "outputs": []
    },
    {
      "cell_type": "code",
      "metadata": {
        "id": "6vloawnbB7JN",
        "colab_type": "code",
        "colab": {}
      },
      "source": [
        "! pip install phonenumbers"
      ],
      "execution_count": null,
      "outputs": []
    },
    {
      "cell_type": "code",
      "metadata": {
        "id": "VJUvL5LnBX9w",
        "colab_type": "code",
        "colab": {}
      },
      "source": [
        "! python3 phoneinfoga.py -v"
      ],
      "execution_count": null,
      "outputs": []
    },
    {
      "cell_type": "markdown",
      "metadata": {
        "id": "PldrJohbC3fK",
        "colab_type": "text"
      },
      "source": [
        "To use Chrome I found:\n",
        "https://github.com/sundowndev/PhoneInfoga/blob/8179fe4857ca7df2d843119e2123c260e8401818/lib/googlesearch.py#L35"
      ]
    },
    {
      "cell_type": "code",
      "metadata": {
        "id": "I_rf5HsOGOJJ",
        "colab_type": "code",
        "colab": {}
      },
      "source": [
        "! python3 phoneinfoga.py -h"
      ],
      "execution_count": null,
      "outputs": []
    },
    {
      "cell_type": "code",
      "metadata": {
        "id": "SsMXFyI7z5n6",
        "colab_type": "code",
        "colab": {}
      },
      "source": [
        "%ls"
      ],
      "execution_count": null,
      "outputs": []
    },
    {
      "cell_type": "code",
      "metadata": {
        "id": "mshlNNZ-Hcbb",
        "colab_type": "code",
        "colab": {}
      },
      "source": [
        "#! pip install geckodriver\n",
        "# https://stackoverflow.com/questions/44886348/how-to-run-brew-command-in-windows\n",
        "! brew install geckodriver"
      ],
      "execution_count": null,
      "outputs": []
    },
    {
      "cell_type": "code",
      "metadata": {
        "id": "xdIcI5QuzqYz",
        "colab_type": "code",
        "colab": {}
      },
      "source": [
        "! install --help"
      ],
      "execution_count": null,
      "outputs": []
    },
    {
      "cell_type": "code",
      "metadata": {
        "id": "5NTySTNaGcJp",
        "colab_type": "code",
        "colab": {}
      },
      "source": [
        "! python3 phoneinfoga.py -n +15083339137 --recon"
      ],
      "execution_count": null,
      "outputs": []
    }
  ]
}