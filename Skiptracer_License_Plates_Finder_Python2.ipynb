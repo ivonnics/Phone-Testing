{
  "nbformat": 4,
  "nbformat_minor": 0,
  "metadata": {
    "colab": {
      "name": "Skiptracer License Plates Finder Python2.ipynb",
      "provenance": [],
      "collapsed_sections": [],
      "toc_visible": true
    },
    "kernelspec": {
      "name": "python2",
      "display_name": "Python 2"
    }
  },
  "cells": [
    {
      "cell_type": "markdown",
      "metadata": {
        "id": "fwjo0qh0_1mM",
        "colab_type": "text"
      },
      "source": [
        "From: https://null-byte.wonderhowto.com/how-to/find-osint-data-license-plate-numbers-with-skiptracer-0237876/\n",
        "and\n",
        "\n",
        "https://www.kdnuggets.com/2018/02/google-colab-free-gpu-tutorial-tensorflow-keras-pytorch.html/2\n",
        "\n",
        "and\n",
        "\n",
        "https://github.com/xillwillx/skiptracer\n",
        "\n",
        "and\n",
        "\n",
        "https://stackoverflow.com/questions/55814631/google-colab-how-to-run-a-jupyter-notebook-file-that-is-in-the-files-tab-i"
      ]
    },
    {
      "cell_type": "markdown",
      "metadata": {
        "id": "z0sB1rLv9_GF",
        "colab_type": "text"
      },
      "source": [
        "FROM: https://stackoverflow.com/questions/61475248/how-can-i-use-python-2-on-google-colab"
      ]
    },
    {
      "cell_type": "markdown",
      "metadata": {
        "id": "SXn6Uz_oCZTR",
        "colab_type": "text"
      },
      "source": [
        "## Para chequear el VIN: https://www.faxvin.com/vin-check/owner\n",
        "\n",
        "and\n",
        "https://infotracer.com/"
      ]
    },
    {
      "cell_type": "code",
      "metadata": {
        "id": "_E7lpk4k9aU7",
        "colab_type": "code",
        "colab": {}
      },
      "source": [
        "!git clone https://github.com/xillwillx/skiptracer.git"
      ],
      "execution_count": null,
      "outputs": []
    },
    {
      "cell_type": "code",
      "metadata": {
        "id": "Bzh1pAs69k2v",
        "colab_type": "code",
        "colab": {}
      },
      "source": [
        "cd skiptracer"
      ],
      "execution_count": null,
      "outputs": []
    },
    {
      "cell_type": "code",
      "metadata": {
        "id": "HamlF-NT9lmc",
        "colab_type": "code",
        "colab": {}
      },
      "source": [
        "ls"
      ],
      "execution_count": null,
      "outputs": []
    },
    {
      "cell_type": "code",
      "metadata": {
        "id": "NjNBVYw69pnL",
        "colab_type": "code",
        "colab": {}
      },
      "source": [
        "! pip install -r requirements.txt"
      ],
      "execution_count": null,
      "outputs": []
    },
    {
      "cell_type": "code",
      "metadata": {
        "id": "qhe41juT9wyr",
        "colab_type": "code",
        "colab": {
          "base_uri": "https://localhost:8080/",
          "height": 877
        },
        "outputId": "6566fa93-80d5-43ce-c046-ef44f48086b5"
      },
      "source": [
        "from __future__ import print_function\n",
        "from plugins.menus import menus\n",
        "from plugins.banner import Logo\n",
        "\n",
        "import sys\n",
        "import signal\n",
        "try:\n",
        "    import __builtin__ as bi\n",
        "except:\n",
        "    import builtins as bi\n",
        "import ast\n",
        "from plugins.colors import BodyColors as bc\n",
        "\n",
        "def signal_handler(signal, frame):\n",
        " print(\"\")\n",
        " sys.exit(0)\n",
        "\n",
        "signal.signal(signal.SIGINT, signal_handler)\n",
        "\n",
        "bi.search_string = None\n",
        "bi.lookup = None\n",
        "bi.output = None\n",
        "bi.outdata = dict()\n",
        "bi.webproxy = None\n",
        "bi.proxy = None\n",
        "bi.debug = False\n",
        "\n",
        "Logo().banner()\n",
        "\n",
        "\n",
        "if __name__ == \"__main__\":  # If true, run main function of framework\n",
        " try:\n",
        "  if str(bi.output).lower() == \"y\":\n",
        "   bi.filename = raw_input(\"[Please provide the filename for output? (somefile.txt|somefile.json)]: \")\n",
        "   def writeout():\n",
        "    import json\n",
        "    try:\n",
        "     pg.write_file(json.dumps(bi.outdata), bi.filename)\n",
        "     print((\"  [\"+bc.CRED+\"X\"+bc.CEND+\"] \"+bc.CYLW+\" Output written to disk: ./%s\\n\"+bc.CEND) % bi.filename)\n",
        "    except Exception as nowriteJSON:\n",
        "     if bi.debug:\n",
        "      print((\"  [\"+bc.CRED+\"X\"+bc.CEND+\"] \"+bc.CYLW+\"Output failed to write to disk %s\\n\"+bc.CEND) % nowriteJSON)\n",
        "     else:\n",
        "      print(\"  [\"+bc.CRED+\"X\"+bc.CEND+\"] \"+bc.CYLW+\"Output failed to write to disk %s\\n\"+bc.CEND)\n",
        "  menus().intromenu()\n",
        " except Exception as failedmenu:\n",
        "  print(\"Failed menu: %s\" % (failedmenu))\n",
        "  pass\n"
      ],
      "execution_count": null,
      "outputs": [
        {
          "output_type": "stream",
          "text": [
            "\n",
            "\n",
            "\t\t.▄▄ · ▄ •▄ ▪   ▄▄▄·▄▄▄▄▄▄▄▄   ▄▄▄·  ▄▄· ▄▄▄ .▄▄▄  \n",
            "\t\t▐█ ▀. █▌▄▌▪██ ▐█ ▄█•██  ▀▄ █·▐█ ▀█ ▐█ ▌▪▀▄.▀·▀▄ █·\n",
            "\t\t▄▀▀▀█▄▐▀▀▄·▐█· ██▀· ▐█.▪▐▀▀▄ ▄█▀▀█ ██ ▄▄▐▀▀▪▄▐▀▀▄ \n",
            "\t\t▐█▄▪▐█▐█.█▌▐█▌▐█▪·• ▐█▌·▐█•█▌▐█ ▪▐▌▐███▌▐█▄▄▌▐█•█▌\n",
            "\t\t       \u001b[91m,.-~*´¨¯¨`*·~-.¸\u001b[93m-(\u001b[96mby\u001b[93m)-\u001b[91m,.-~*´¨¯¨`*·~-.¸\u001b[0m \n",
            "\n",
            "\t\t\t      \u001b[94m▀ █ █ █▀▄▀█ \u001b[91m█▀▀█ \u001b[94m█▀▀▄ \u001b[0m\n",
            "\t\t\t      \u001b[94m█ █ █ █ ▀ █ \u001b[91m█  █ \u001b[94m█▀▀▄\u001b[0m\n",
            "\t\t\t      \u001b[94m▀ ▀ ▀ ▀   ▀ \u001b[91m▀▀▀▀ \u001b[94m▀▀▀ \u001b[0m\n",
            "\t\t\t      \u001b[93m  https://illmob.org \u001b[0m\n",
            "\n",
            " [\u001b[93m!\u001b[0m] \u001b[94mPhone search menu: Target info\u001b[93m - 5084055391\u001b[0m\n",
            "\t[\u001b[94m1\u001b[0m] \u001b[91mAll\u001b[0m - \u001b[93mRun all modules associated to the phone module group\u001b[0m\n",
            "\t[\u001b[94m2\u001b[0m] \u001b[91mTruePeopleSearch\u001b[0m - \u001b[93mRun email through public page of paid access\u001b[0m\n",
            "\t[\u001b[94m3\u001b[0m] \u001b[91mWhoCalld\u001b[0m - \u001b[93mReverse phone trace on given number\u001b[0m\n",
            "\t[\u001b[94m4\u001b[0m] \u001b[91m411\u001b[0m - \u001b[93mReverse phone trace on given number\u001b[0m\n",
            "\t[\u001b[94m5\u001b[0m] \u001b[91mAdvancedBackgroundChecks\u001b[0m - \u001b[93mRun number through public page of paid access\u001b[0m\n",
            "\t[\u001b[94m6\u001b[0m] \u001b[91mReset Target\u001b[0m - \u001b[93mReset the Phone to new target address\u001b[0m\n",
            "\t[\u001b[94m7\u001b[0m] \u001b[91mBack\u001b[0m - \u001b[93mReturn to main menu\u001b[0m\n",
            " [\u001b[93m!\u001b[0m] \u001b[94mSelect a number to continue:\u001b[0m 7\n",
            "\n",
            "\t\t.▄▄ · ▄ •▄ ▪   ▄▄▄·▄▄▄▄▄▄▄▄   ▄▄▄·  ▄▄· ▄▄▄ .▄▄▄  \n",
            "\t\t▐█ ▀. █▌▄▌▪██ ▐█ ▄█•██  ▀▄ █·▐█ ▀█ ▐█ ▌▪▀▄.▀·▀▄ █·\n",
            "\t\t▄▀▀▀█▄▐▀▀▄·▐█· ██▀· ▐█.▪▐▀▀▄ ▄█▀▀█ ██ ▄▄▐▀▀▪▄▐▀▀▄ \n",
            "\t\t▐█▄▪▐█▐█.█▌▐█▌▐█▪·• ▐█▌·▐█•█▌▐█ ▪▐▌▐███▌▐█▄▄▌▐█•█▌\n",
            "\t\t       \u001b[91m,.-~*´¨¯¨`*·~-.¸\u001b[93m-(\u001b[96mby\u001b[93m)-\u001b[91m,.-~*´¨¯¨`*·~-.¸\u001b[0m \n",
            "\n",
            "\t\t\t      \u001b[94m▀ █ █ █▀▄▀█ \u001b[91m█▀▀█ \u001b[94m█▀▀▄ \u001b[0m\n",
            "\t\t\t      \u001b[94m█ █ █ █ ▀ █ \u001b[91m█  █ \u001b[94m█▀▀▄\u001b[0m\n",
            "\t\t\t      \u001b[94m▀ ▀ ▀ ▀   ▀ \u001b[91m▀▀▀▀ \u001b[94m▀▀▀ \u001b[0m\n",
            "\t\t\t      \u001b[93m  https://illmob.org \u001b[0m\n",
            "\n",
            " [\u001b[93m!\u001b[0m] \u001b[94mLookup menu:\u001b[0m\n",
            "\t[\u001b[94m1\u001b[0m] \u001b[91mEmail\u001b[0m - \u001b[93mSearch targets by email address\u001b[0m\n",
            "\t[\u001b[94m2\u001b[0m] \u001b[91mName\u001b[0m - \u001b[93mSearch targets by First Last name combination\u001b[0m\n",
            "\t[\u001b[94m3\u001b[0m] \u001b[91mPhone\u001b[0m - \u001b[93mSearch targets by telephone number\u001b[0m\n",
            "\t[\u001b[94m4\u001b[0m] \u001b[91mScreenName\u001b[0m - \u001b[93mSearch targets by known alias\u001b[0m\n",
            "\t[\u001b[94m5\u001b[0m] \u001b[91mPlate\u001b[0m - \u001b[93mSearch targets by license plate\u001b[0m\n",
            "\t[\u001b[94m6\u001b[0m] \u001b[91mDomain\u001b[0m - \u001b[93mSearch targets by Domain\u001b[0m\n",
            "\t[\u001b[94m7\u001b[0m] \u001b[91mHelp\u001b[0m - \u001b[93mDetails the application and use cases\u001b[0m\n",
            "\t[\u001b[94m88\u001b[0m] \u001b[91mReport\u001b[0m - \u001b[93mGenerates a docx report from queries\u001b[0m\n",
            "\t[\u001b[94m99\u001b[0m] \u001b[91mExit\u001b[0m - \u001b[93mTerminate the application\u001b[0m\n",
            "[\u001b[93m!\u001b[0m] \u001b[94mSelect a number to continue:\u001b[0m 99\n"
          ],
          "name": "stdout"
        },
        {
          "output_type": "error",
          "ename": "SystemExit",
          "evalue": "ignored",
          "traceback": [
            "An exception has occurred, use %tb to see the full traceback.\n",
            "\u001b[0;31mSystemExit\u001b[0m\u001b[0;31m:\u001b[0m 0\n"
          ]
        }
      ]
    }
  ]
}