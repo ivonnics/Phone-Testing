{
  "nbformat": 4,
  "nbformat_minor": 0,
  "metadata": {
    "colab": {
      "name": "Sherlock y Como clonar un Github.ipynb",
      "provenance": [],
      "collapsed_sections": []
    },
    "kernelspec": {
      "name": "python3",
      "display_name": "Python 3"
    }
  },
  "cells": [
    {
      "cell_type": "markdown",
      "metadata": {
        "id": "2-gYmbTI7JWK",
        "colab_type": "text"
      },
      "source": [
        "## Taken from: https://github.com/sherlock-project/sherlock\n",
        "\n"
      ]
    },
    {
      "cell_type": "code",
      "metadata": {
        "id": "Hg_DpUrj6d3d",
        "colab_type": "code",
        "colab": {}
      },
      "source": [
        "! git clone https://github.com/sherlock-project/sherlock.git"
      ],
      "execution_count": null,
      "outputs": []
    },
    {
      "cell_type": "code",
      "metadata": {
        "id": "2r1nmcM76my9",
        "colab_type": "code",
        "colab": {}
      },
      "source": [
        "%ls"
      ],
      "execution_count": null,
      "outputs": []
    },
    {
      "cell_type": "code",
      "metadata": {
        "id": "J1Zdz8XQ6qwb",
        "colab_type": "code",
        "colab": {}
      },
      "source": [
        "%cd sherlock/"
      ],
      "execution_count": null,
      "outputs": []
    },
    {
      "cell_type": "code",
      "metadata": {
        "id": "-w8WlCOI6zOF",
        "colab_type": "code",
        "colab": {}
      },
      "source": [
        "! pip install -r requirements.txt"
      ],
      "execution_count": null,
      "outputs": []
    },
    {
      "cell_type": "code",
      "metadata": {
        "id": "zOxiqAjb701S",
        "colab_type": "code",
        "colab": {}
      },
      "source": [
        "%ls"
      ],
      "execution_count": null,
      "outputs": []
    },
    {
      "cell_type": "code",
      "metadata": {
        "id": "PrKv-5aO8PaR",
        "colab_type": "code",
        "colab": {}
      },
      "source": [
        "%cd sherlock"
      ],
      "execution_count": null,
      "outputs": []
    },
    {
      "cell_type": "code",
      "metadata": {
        "id": "VLyUJAbg9Kwy",
        "colab_type": "code",
        "colab": {}
      },
      "source": [
        "%ls"
      ],
      "execution_count": null,
      "outputs": []
    },
    {
      "cell_type": "code",
      "metadata": {
        "id": "rDvMeHcIBpta",
        "colab_type": "code",
        "colab": {}
      },
      "source": [
        "## https://stackoverflow.com/questions/51194303/how-to-run-a-python-script-in-a-py-file-from-a-google-colab-notebook\n",
        "!python sherlock.py ivonnics"
      ],
      "execution_count": null,
      "outputs": []
    }
  ]
}